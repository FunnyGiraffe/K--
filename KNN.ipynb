{
 "cells": [
  {
   "cell_type": "code",
   "execution_count": null,
   "metadata": {},
   "outputs": [],
   "source": [
    "\"\"\"\n",
    "k-邻近算法介绍：\n",
    "k邻近法（k-nearest neighbor, k-NN）是1967年由Cover T和Hart P提出的一种基于分类和回归方法。\n",
    "它的工作原理：存在一个样本数据集合，也称作为训练样本集，并且样本集中每个数据都存在标签，\n",
    "即我们知道样本集中每一个数据与所属分类的对应关系。输入没有标签的新数据后，将新的数据的每个特征\n",
    "与样本集中数据对应的特征进行比较，然后算法提取样本最相似数据（最邻近）的分类标签。一般来说，\n",
    "我们只选择样本数据集中前k个最相似的数据，这就是k-邻近算法中k的出处，通常k是不大于20的整数。\n",
    "最后，选择k个最相似数据中出现次数最多的分类，作为新数据的分类。\n",
    "\"\"\"\n"
   ]
  },
  {
   "cell_type": "code",
   "execution_count": 6,
   "metadata": {},
   "outputs": [
    {
     "name": "stdout",
     "output_type": "stream",
     "text": [
      "动作片\n"
     ]
    }
   ],
   "source": [
    "import numpy as np\n",
    "import operator\n",
    "\"\"\"\n",
    "函数说明：创建数据集\n",
    "Parameters:\n",
    "    无\n",
    "Returns:\n",
    "    group - 数据集\n",
    "    labels - 分类标签\n",
    "Modify:\n",
    "    2022-05-24\n",
    "\"\"\"\n",
    "def createDataSet():\n",
    "    # 四组二维特征\n",
    "    group = np.array([[1, 101],[5, 89],[108, 5],[115, 8]])\n",
    "    # 四组特征的标签\n",
    "    labels = ['爱情片','爱情片','动作片','动作片']\n",
    "    return group, labels\n",
    "\n",
    "\"\"\"\n",
    "函数说明：kNN算法，分类器\n",
    "Parameters:\n",
    "    inX - 用于分类的数据（测试集）\n",
    "    dataSet - 用于训练的数据（训练集）\n",
    "    labels - 分类标签\n",
    "    k - kNN算法参数，选择距离最小的k个点\n",
    "Returns:\n",
    "    sortedClassCount[0][0] - 分类结果\n",
    "Modify:\n",
    "    2022-05-24\n",
    "\"\"\"\n",
    "def classify0(inX, dataSet, labels, k):\n",
    "    # numpy函数shape[0]返回dataSet的行数\n",
    "    dataSetSize = dataSet.shape[0]\n",
    "    # 在列向量方向上重复inX共1次（横向），行向量方向上重复inX共dataSetSize次（纵向）\n",
    "    diffMat = np.tile(inX, (dataSetSize, 1)) - dataSet\n",
    "    # 二维特征相减后平方\n",
    "    sqDiffMat = diffMat**2\n",
    "    # sum()所有元素相加，sum(0)列相加，sum(1)行相加\n",
    "    sqDistances = sqDiffMat.sum(axis=1)\n",
    "    # 开方，计算出距离\n",
    "    distances = sqDistances**0.5\n",
    "    # 返回distances中元素从小到大排序后的所引值\n",
    "    sortedDistIndices = distances.argsort()\n",
    "    # 定一个记录类别次数的字典\n",
    "    classCount = {}\n",
    "    for i in range(k):\n",
    "        # 取出前k个元素的类别\n",
    "        voteIlabel = labels[sortedDistIndices[i]]\n",
    "        # dict.get(key,default=None)，字典的get()方法，返回指定键的值，如果值不再字典中返回\n",
    "        # 计算类别次数\n",
    "        classCount[voteIlabel] = classCount.get(voteIlabel,0) + 1\n",
    "    # python3中用items()替换python2中的iteritems()\n",
    "    # key=operator.itemgetter(1)根据字典的值进行排序\n",
    "    # key=operator.itemgetter(0)根据字典的键进行排序\n",
    "    # reverse降序排序字典\n",
    "    sortedClassCount = sorted(classCount.items(), key=operator.itemgetter(1), reverse=True)\n",
    "    return sortedClassCount[0][0]\n",
    "\n",
    "\n",
    "if __name__ == '__main__':\n",
    "    # 创建数据集\n",
    "    group, labels = createDataSet()\n",
    "    # 测试集\n",
    "    test = [101, 20]\n",
    "    # KNN分类\n",
    "    test_class = classify0(test, group, labels, 3)\n",
    "    print(test_class)\n",
    "    # 打印数据集\n",
    "    #print(group)\n",
    "    #print(labels)"
   ]
  },
  {
   "cell_type": "code",
   "execution_count": 3,
   "metadata": {},
   "outputs": [
    {
     "name": "stdout",
     "output_type": "stream",
     "text": [
      "[[1 2 3 1 2 3]\n",
      " [5 4 3 5 4 3]\n",
      " [7 8 9 7 8 9]]\n",
      "[[1 2 3]\n",
      " [5 4 3]\n",
      " [7 8 9]\n",
      " [1 2 3]\n",
      " [5 4 3]\n",
      " [7 8 9]]\n"
     ]
    }
   ],
   "source": [
    "'''\n",
    "测试np.tile()函数，该函数用来扩展矩阵\n",
    "'''\n",
    "import numpy as np\n",
    "a = np.array(\n",
    "    [\n",
    "        [1,2,3],\n",
    "        [5,4,3],\n",
    "        [7,8,9]\n",
    "    ]\n",
    ")\n",
    "\n",
    "print(np.tile(a,2))\n",
    "print(np.tile(a,(2,1)))"
   ]
  }
 ],
 "metadata": {
  "interpreter": {
   "hash": "2cfb24601b14bbd9472ac8395613cfe445b9836f371685aba36fd5b64d9025f2"
  },
  "kernelspec": {
   "display_name": "Python 3.9.12 ('shad0w')",
   "language": "python",
   "name": "python3"
  },
  "language_info": {
   "codemirror_mode": {
    "name": "ipython",
    "version": 3
   },
   "file_extension": ".py",
   "mimetype": "text/x-python",
   "name": "python",
   "nbconvert_exporter": "python",
   "pygments_lexer": "ipython3",
   "version": "3.9.12"
  },
  "orig_nbformat": 4
 },
 "nbformat": 4,
 "nbformat_minor": 2
}
